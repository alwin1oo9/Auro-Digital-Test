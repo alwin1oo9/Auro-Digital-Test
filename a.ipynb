{
 "cells": [
  {
   "cell_type": "code",
   "execution_count": 7,
   "metadata": {},
   "outputs": [],
   "source": [
    "# parse xml\n",
    "import xml.etree.ElementTree as ET\n",
    "tree = ET.parse('temp.xml')\n",
    "root = tree.getroot()"
   ]
  },
  {
   "cell_type": "code",
   "execution_count": 9,
   "metadata": {},
   "outputs": [],
   "source": [
    "# get orders attribute\n",
    "\n",
    "# parse xml\n",
    "import xml.etree.ElementTree as ET\n",
    "tree = ET.parse('temp.xml')\n",
    "root = tree.getroot()\n",
    "\n",
    "class Book:\n",
    "    def __init__(self, name):\n",
    "        self.name = name\n",
    "        self.sell_book = [] #min heap\n",
    "        self.buy_book = [] #max heap\n",
    "books = {\n",
    "}\n",
    "time = 0\n",
    "for child in root:\n",
    "    # add time to each order\n",
    "    child.attrib['Time'] = time\n",
    "    book = child.attrib['book']\n",
    "    price = float(child.attrib['price'])\n",
    "    op = child.attrib['operation']\n",
    "    vol = float(child.attrib['volume'])\n",
    "    time += 1\n",
    "    if book not in books:\n",
    "        books[book] = Book(book)\n",
    "    if child.tag == 'DeleteOrder':\n",
    "        if child.attrib['operation'] == 'SELL':\n",
    "            books[book].sell_book.remove(child.attrib['orderId'])\n",
    "        else:\n",
    "            books[book].buy_book.remove(child.attrib['orderId'])\n",
    "    else:\n",
    "        if child.attrib['operation'] == 'SELL':\n",
    "            for order in books[book].buy_book:\n",
    "                if float(order.attrib['price']) >= price:\n",
    "                    if order.attrib['volume'] > vol:\n",
    "                        order.attrib['volume'] -= vol\n",
    "                        vol = 0\n",
    "                    else:\n",
    "                        vol -= int(order.attrib['volume'])\n",
    "                        books[book].buy_book.remove(order)\n",
    "                        # sort by price\n",
    "                        books[book].buy_book.sort(key=lambda x: float(x.attrib['price']), reverse=True)\n",
    "                else:\n",
    "                    break\n",
    "            if vol > 0:\n",
    "                child.attrib['volume'] = vol\n",
    "                books[book].sell_book.append(child)\n",
    "                # sort by price\n",
    "                books[book].sell_book.sort(key=lambda x: float(x.attrib['price']))\n",
    "                break\n",
    "        else:\n",
    "            for order in books[book].sell_book:\n",
    "                if float(order.attrib['price']) <= price:\n",
    "                    if order.attrib['volume'] > vol:\n",
    "                        order.attrib['volume'] -= vol\n",
    "                        vol = 0\n",
    "                    else:\n",
    "                        vol -= int(order.attrib['volume'])\n",
    "                        books[book].sell_book.remove(order)\n",
    "                        # sort by price\n",
    "                        books[book].sell_book.sort(key=lambda x: float(x.attrib['price']))\n",
    "                else:\n",
    "                    break\n",
    "            if vol > 0:\n",
    "                child.attrib['volume'] = vol\n",
    "                books[book].buy_book.append(child)\n",
    "                # sort by price\n",
    "                books[book].buy_book.sort(key=lambda x: float(x.attrib['price']), reverse=True)\n",
    "                break\n",
    "\n",
    "    "
   ]
  },
  {
   "cell_type": "code",
   "execution_count": 12,
   "metadata": {},
   "outputs": [
    {
     "name": "stdout",
     "output_type": "stream",
     "text": [
      "book-1\n",
      "sell book\n",
      "{'book': 'book-1', 'operation': 'SELL', 'price': '100.50', 'volume': 81.0, 'orderId': '1', 'Time': 0}\n",
      "buy book\n"
     ]
    }
   ],
   "source": [
    "for book in books:\n",
    "    print(book)\n",
    "    print('sell book')\n",
    "    for order in books[book].sell_book:\n",
    "        print(order.attrib)\n",
    "    print('buy book')\n",
    "    for order in books[book].buy_book:\n",
    "        print(order.attrib)"
   ]
  },
  {
   "cell_type": "code",
   "execution_count": null,
   "metadata": {},
   "outputs": [],
   "source": []
  }
 ],
 "metadata": {
  "kernelspec": {
   "display_name": "Python 3.10.6 64-bit",
   "language": "python",
   "name": "python3"
  },
  "language_info": {
   "codemirror_mode": {
    "name": "ipython",
    "version": 3
   },
   "file_extension": ".py",
   "mimetype": "text/x-python",
   "name": "python",
   "nbconvert_exporter": "python",
   "pygments_lexer": "ipython3",
   "version": "3.10.6"
  },
  "orig_nbformat": 4,
  "vscode": {
   "interpreter": {
    "hash": "aee8b7b246df8f9039afb4144a1f6fd8d2ca17a180786b69acc140d282b71a49"
   }
  }
 },
 "nbformat": 4,
 "nbformat_minor": 2
}
